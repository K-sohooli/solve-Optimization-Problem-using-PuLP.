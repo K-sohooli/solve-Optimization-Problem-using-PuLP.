{
 "cells": [
  {
   "cell_type": "markdown",
   "id": "56576468",
   "metadata": {},
   "source": [
    "# ChemTrace problem\n",
    "The answer to questions 1-4 is in this file and the codes are followed after the answer of each question "
   ]
  },
  {
   "cell_type": "markdown",
   "id": "c961b041",
   "metadata": {},
   "source": [
    "## Question 1: Mathematical Optimization model\n",
    "\n",
    "- Decision Variables: x1, x2 (the amount of allocated fund to two strategies)\n",
    "\n",
    "x1: allocated fund to improving efficiency\n",
    "x2: allocated fund to reducing activity\n",
    "- Objective: max(20000 * x1 + 15000 * x2)\n",
    "- Constraints: \n",
    "              1500 * x1 + 800 *x 2 >= 10000   NOx saving \n",
    "              50 * x1 + 120 * x2 >= 750        CH4 saving\n",
    "              x1 >= 0 \n",
    "              x2>= 0\n",
    "              x1 + x2 <= 10\n",
    "              \n",
    "* In matrix notation: \n",
    "                      max C.Tx\n",
    "                      subject to Ax >= b\n",
    "                      x>=0\n",
    "                      sum(x)<= 10\n",
    "C= \\begin{bmatrix} 20000 \\\\ 15000 \\end{bmatrix}\n",
    "x= \\begin{bmatrix}x1\\\\x2\\end{bmatrix} \n",
    "\n",
    "A=  \\begin{bmatrix} 1500 & 800 \\\\ 50 & 120\\end{bmatrix}\n",
    "b= \\begin{bmatrix}10000\\\\750\\end{bmatrix}\n",
    "   \n"
   ]
  },
  {
   "cell_type": "markdown",
   "id": "cde218bc",
   "metadata": {},
   "source": [
    "## Question 2: Solve the model using Pulp\n",
    "### Funds allocated to each strategy:\n",
    "\n",
    "* budjet_for_Improving_efficiency = 6.4285714\n",
    "* budjet_for_Reducing_activity = 3.5714286\n",
    "\n",
    "### Saved amount of Co2: \n",
    "* 182142.857\n"
   ]
  },
  {
   "cell_type": "code",
   "execution_count": 425,
   "id": "0d44d393",
   "metadata": {},
   "outputs": [],
   "source": [
    "# Import PuLP modeler functions\n",
    "from pulp import *"
   ]
  },
  {
   "cell_type": "code",
   "execution_count": 97,
   "id": "c245127a",
   "metadata": {},
   "outputs": [],
   "source": [
    "# create the model to contain the problem data, specifiy max function in terms of saving CO2\n",
    "model = LpProblem(name=\"ChemTrace\", sense=LpMaximize )\n",
    "\n"
   ]
  },
  {
   "cell_type": "code",
   "execution_count": 3,
   "id": "28da1ef2",
   "metadata": {},
   "outputs": [],
   "source": [
    "# put data in lists/dictionaries\n",
    "startegies = ['Improving_efficiency','Reducing_activity']\n",
    "saving_CO2  = {'Improving_efficiency': 20000, 'Reducing_activity':15000}\n",
    "NOx_saving = {'Improving_efficiency': 1500, 'Reducing_activity':800}\n",
    "CH4_saving = {'Improving_efficiency': 50, 'Reducing_activity':120}\n"
   ]
  },
  {
   "cell_type": "code",
   "execution_count": 4,
   "id": "31bbeaad",
   "metadata": {},
   "outputs": [],
   "source": [
    "# Creates a dictionary of LP variables\n",
    "x = LpVariable.dicts( name=\"budjet_for\", indices=startegies, lowBound=0, upBound=None)"
   ]
  },
  {
   "cell_type": "code",
   "execution_count": 6,
   "id": "3eb0c32f",
   "metadata": {},
   "outputs": [],
   "source": [
    "# The objective function is added to 'model' first; \n",
    "model += lpSum(saving_CO2[i]*x[i] for i in startegies), \"Total CO2 saving\"\n",
    "\n"
   ]
  },
  {
   "cell_type": "code",
   "execution_count": 7,
   "id": "1b407511",
   "metadata": {},
   "outputs": [],
   "source": [
    "# The constraints are added\n",
    "model += lpSum(NOx_saving[i]*x[i] for i in startegies) >= 10000\n",
    "model += lpSum(CH4_saving[i]*x[i] for i in startegies) >= 750\n",
    "model += lpSum(x[i] for i in startegies)<=10\n",
    "\n"
   ]
  },
  {
   "cell_type": "code",
   "execution_count": 8,
   "id": "ce105f8a",
   "metadata": {},
   "outputs": [
    {
     "data": {
      "text/plain": [
       "[budjet_for_Improving_efficiency, budjet_for_Reducing_activity]"
      ]
     },
     "execution_count": 8,
     "metadata": {},
     "output_type": "execute_result"
    }
   ],
   "source": [
    "# The model data is written to an .lp file\n",
    "model.writeLP(\"ChemTrace.lp\")"
   ]
  },
  {
   "cell_type": "code",
   "execution_count": 9,
   "id": "c0992b8c",
   "metadata": {
    "collapsed": true
   },
   "outputs": [
    {
     "name": "stdout",
     "output_type": "stream",
     "text": [
      "Welcome to the CBC MILP Solver \n",
      "Version: 2.10.3 \n",
      "Build Date: Dec 15 2019 \n",
      "\n",
      "command line - /Users/kheirysohouli/opt/anaconda3/lib/python3.9/site-packages/pulp/solverdir/cbc/osx/64/cbc /var/folders/1x/_847lj390sv7mv459sy0j1y80000gn/T/16a42b2ec2cc450cac96221c0c08e6d9-pulp.mps max timeMode elapsed branch printingOptions all solution /var/folders/1x/_847lj390sv7mv459sy0j1y80000gn/T/16a42b2ec2cc450cac96221c0c08e6d9-pulp.sol (default strategy 1)\n",
      "At line 2 NAME          MODEL\n",
      "At line 3 ROWS\n",
      "At line 8 COLUMNS\n",
      "At line 17 RHS\n",
      "At line 21 BOUNDS\n",
      "At line 22 ENDATA\n",
      "Problem MODEL has 3 rows, 2 columns and 6 elements\n",
      "Coin0008I MODEL read with 0 errors\n",
      "Option for timeMode changed from cpu to elapsed\n",
      "Presolve 0 (-3) rows, 0 (-2) columns and 0 (-6) elements\n",
      "Empty problem - 0 rows, 0 columns and 0 elements\n",
      "Optimal - objective value 182142.86\n",
      "After Postsolve, objective 182142.86, infeasibilities - dual 0 (0), primal 0 (0)\n",
      "Optimal objective 182142.8571 - 0 iterations time 0.002, Presolve 0.00\n",
      "Option for printingOptions changed from normal to all\n",
      "Total time (CPU seconds):       0.00   (Wallclock seconds):       0.00\n",
      "\n"
     ]
    },
    {
     "data": {
      "text/plain": [
       "1"
      ]
     },
     "execution_count": 9,
     "metadata": {},
     "output_type": "execute_result"
    }
   ],
   "source": [
    "# solve\n",
    "model.solve()"
   ]
  },
  {
   "cell_type": "code",
   "execution_count": 10,
   "id": "20122fe3",
   "metadata": {},
   "outputs": [
    {
     "name": "stdout",
     "output_type": "stream",
     "text": [
      "Status: Optimal\n"
     ]
    }
   ],
   "source": [
    "# The status of the solution is printed to the screen                    \n",
    "print( \"Status: \" + LpStatus[model.status] )"
   ]
  },
  {
   "cell_type": "code",
   "execution_count": 11,
   "id": "0d52abcd",
   "metadata": {},
   "outputs": [
    {
     "name": "stdout",
     "output_type": "stream",
     "text": [
      "Total saving_CO2 = 182142.857\n"
     ]
    }
   ],
   "source": [
    "# The optimised objective function value is printed to the screen\n",
    "print( \"Total saving_CO2 = \" +str( value(model.objective) ) )"
   ]
  },
  {
   "cell_type": "code",
   "execution_count": 12,
   "id": "02077cc1",
   "metadata": {},
   "outputs": [
    {
     "name": "stdout",
     "output_type": "stream",
     "text": [
      "budjet_for_Improving_efficiency = 6.4285714\n",
      "budjet_for_Reducing_activity = 3.5714286\n"
     ]
    }
   ],
   "source": [
    "# Each of the variables is printed with it's resolved optimum value\n",
    "for v in model.variables():\n",
    "    print( v.name + \" = \" + str(v.varValue) )"
   ]
  },
  {
   "cell_type": "markdown",
   "id": "74f2669b",
   "metadata": {},
   "source": [
    "## Question 3: Visualizing Feasible Region, Decision variables, Constraints, Optimal Solution\n",
    "- Feasible Region is depicted as a grey area in the following plot\n",
    "- Decision Variables are x1 and x2 which are the axes of the plot\n",
    "- Three constraints are depicted with the colors of red, green and blue\n",
    "- Optimal solusion in the bold green point "
   ]
  },
  {
   "cell_type": "code",
   "execution_count": null,
   "id": "116c5c39",
   "metadata": {},
   "outputs": [],
   "source": [
    "budjet_for_Improving_efficiency = 6.4285714\n",
    "budjet_for_Reducing_activity = 3.5714286"
   ]
  },
  {
   "cell_type": "code",
   "execution_count": 539,
   "id": "b5b744f5",
   "metadata": {
    "scrolled": true
   },
   "outputs": [
    {
     "data": {
      "image/png": "[encoded data removed]",
      "text/plain": [
       "<Figure size 432x288 with 1 Axes>"
      ]
     },
     "metadata": {
      "needs_background": "light"
     },
     "output_type": "display_data"
    }
   ],
   "source": [
    "import matplotlib.pyplot as plt\n",
    "import numpy as np\n",
    "\n",
    "# Decision Variables\n",
    "#x1= budjet_for_Improving_efficiency\n",
    "#x2= budjet_for_Reducing_activity\n",
    "\n",
    "# Define the values for x1\n",
    "x1 = np.linspace(0, 15, 100)\n",
    "\n",
    "# Define constarints equations (subject to):\n",
    "y1 = 10 - x1\n",
    "y2 = (10000 - 1500*x1)/800\n",
    "y3 = (750 - 50*x1)/120\n",
    "\n",
    "# Define optimal sulution\n",
    "y4 =(182142.857 -(20000 * x1))/15000\n",
    "\n",
    "# Plot the inequalities\n",
    "plt.plot(x1, y1, '-r', label='x2 <= 10 - x1')\n",
    "plt.plot(x1, y2, '-g', label='x2 >= (10000 - 1500*x1)/800')\n",
    "plt.plot(x1, y3, '-b', label='x2 >= (750 - 50*x1)/120')\n",
    "plt.plot(x1, y4, '-y', label='optimal solution')\n",
    "\n",
    "plt.xlim([1, 10])\n",
    "plt.ylim([2, 10])\n",
    "\n",
    "# Fill the area between the inequalities\n",
    "plt.fill_between(x1,y1, np.maximum(y2,y3), where=(y1>=y2)&(y1>=y3) , interpolate=True, color='gray')\n",
    "\n",
    "# grey area is feasible area\n",
    "# Add labels and legend\n",
    "plt.xlabel('x1')\n",
    "plt.ylabel('x2')\n",
    "plt.legend(loc='best')\n",
    "\n",
    "# Inserting Optimoum point on the graph\n",
    "x1 = [6.4285714]\n",
    "x2 = [3.5714286]\n",
    "plt.grid()\n",
    "plt.plot(x1, x2, marker=\"o\", markersize=10, markeredgecolor=\"red\", markerfacecolor=\"green\")\n",
    "\n",
    "plt.show()\n",
    "\n"
   ]
  },
  {
   "cell_type": "markdown",
   "id": "ca0df4de",
   "metadata": {},
   "source": [
    "## Question 4: Three situations\n"
   ]
  },
  {
   "cell_type": "code",
   "execution_count": 243,
   "id": "e8131a86",
   "metadata": {},
   "outputs": [],
   "source": [
    "import pandas as pd\n",
    "df_strategies = pd.read_excel('/Users/kheirysohouli/Downloads/Strategies.xlsx')"
   ]
  },
  {
   "cell_type": "code",
   "execution_count": 244,
   "id": "23393f07",
   "metadata": {},
   "outputs": [
    {
     "data": {
      "text/html": [
       "<div>\n",
       "<style scoped>\n",
       "    .dataframe tbody tr th:only-of-type {\n",
       "        vertical-align: middle;\n",
       "    }\n",
       "\n",
       "    .dataframe tbody tr th {\n",
       "        vertical-align: top;\n",
       "    }\n",
       "\n",
       "    .dataframe thead th {\n",
       "        text-align: right;\n",
       "    }\n",
       "</style>\n",
       "<table border=\"1\" class=\"dataframe\">\n",
       "  <thead>\n",
       "    <tr style=\"text-align: right;\">\n",
       "      <th></th>\n",
       "      <th>Pollutant</th>\n",
       "      <th>Insulation A</th>\n",
       "      <th>Insulation B</th>\n",
       "      <th>Insulation C</th>\n",
       "      <th>EV Polestar 2</th>\n",
       "      <th>EV Renault Zoe</th>\n",
       "      <th>Replace valves</th>\n",
       "      <th>Leak detection</th>\n",
       "      <th>OHProfiler</th>\n",
       "      <th>Low Burner</th>\n",
       "      <th>Ultra Low Burner</th>\n",
       "      <th>Fuel/air mixing</th>\n",
       "      <th>ESP design</th>\n",
       "      <th>ESP design (MV variant)</th>\n",
       "      <th>Donate A</th>\n",
       "      <th>Donate B</th>\n",
       "      <th>Donate C</th>\n",
       "    </tr>\n",
       "  </thead>\n",
       "  <tbody>\n",
       "    <tr>\n",
       "      <th>0</th>\n",
       "      <td>NOx</td>\n",
       "      <td>350</td>\n",
       "      <td>0</td>\n",
       "      <td>1300</td>\n",
       "      <td>0</td>\n",
       "      <td>0</td>\n",
       "      <td>1600</td>\n",
       "      <td>50</td>\n",
       "      <td>230</td>\n",
       "      <td>1400</td>\n",
       "      <td>1700</td>\n",
       "      <td>1050</td>\n",
       "      <td>800</td>\n",
       "      <td>0</td>\n",
       "      <td>660</td>\n",
       "      <td>500</td>\n",
       "      <td>0</td>\n",
       "    </tr>\n",
       "    <tr>\n",
       "      <th>1</th>\n",
       "      <td>CH4</td>\n",
       "      <td>130</td>\n",
       "      <td>1833</td>\n",
       "      <td>50</td>\n",
       "      <td>0</td>\n",
       "      <td>0</td>\n",
       "      <td>225</td>\n",
       "      <td>2500</td>\n",
       "      <td>180</td>\n",
       "      <td>0</td>\n",
       "      <td>0</td>\n",
       "      <td>450</td>\n",
       "      <td>450</td>\n",
       "      <td>1770</td>\n",
       "      <td>100</td>\n",
       "      <td>0</td>\n",
       "      <td>0</td>\n",
       "    </tr>\n",
       "    <tr>\n",
       "      <th>2</th>\n",
       "      <td>CO2</td>\n",
       "      <td>1600</td>\n",
       "      <td>2050</td>\n",
       "      <td>400</td>\n",
       "      <td>430</td>\n",
       "      <td>460</td>\n",
       "      <td>250</td>\n",
       "      <td>0</td>\n",
       "      <td>550</td>\n",
       "      <td>250</td>\n",
       "      <td>50</td>\n",
       "      <td>0</td>\n",
       "      <td>950</td>\n",
       "      <td>1840</td>\n",
       "      <td>1050</td>\n",
       "      <td>1500</td>\n",
       "      <td>2000</td>\n",
       "    </tr>\n",
       "    <tr>\n",
       "      <th>3</th>\n",
       "      <td>NaN</td>\n",
       "      <td>NaN</td>\n",
       "      <td>NaN</td>\n",
       "      <td>NaN</td>\n",
       "      <td>NaN</td>\n",
       "      <td>NaN</td>\n",
       "      <td>NaN</td>\n",
       "      <td>NaN</td>\n",
       "      <td>NaN</td>\n",
       "      <td>NaN</td>\n",
       "      <td>NaN</td>\n",
       "      <td>NaN</td>\n",
       "      <td>NaN</td>\n",
       "      <td>NaN</td>\n",
       "      <td>NaN</td>\n",
       "      <td>NaN</td>\n",
       "      <td>NaN</td>\n",
       "    </tr>\n",
       "    <tr>\n",
       "      <th>4</th>\n",
       "      <td>NaN</td>\n",
       "      <td>NaN</td>\n",
       "      <td>NaN</td>\n",
       "      <td>NaN</td>\n",
       "      <td>NaN</td>\n",
       "      <td>NaN</td>\n",
       "      <td>NaN</td>\n",
       "      <td>NaN</td>\n",
       "      <td>NaN</td>\n",
       "      <td>NaN</td>\n",
       "      <td>NaN</td>\n",
       "      <td>NaN</td>\n",
       "      <td>NaN</td>\n",
       "      <td>NaN</td>\n",
       "      <td>NaN</td>\n",
       "      <td>NaN</td>\n",
       "      <td>NaN</td>\n",
       "    </tr>\n",
       "    <tr>\n",
       "      <th>5</th>\n",
       "      <td>NaN</td>\n",
       "      <td>NaN</td>\n",
       "      <td>NaN</td>\n",
       "      <td>NaN</td>\n",
       "      <td>NaN</td>\n",
       "      <td>NaN</td>\n",
       "      <td>NaN</td>\n",
       "      <td>NaN</td>\n",
       "      <td>NaN</td>\n",
       "      <td>NaN</td>\n",
       "      <td>NaN</td>\n",
       "      <td>NaN</td>\n",
       "      <td>NaN</td>\n",
       "      <td>NaN</td>\n",
       "      <td>NaN</td>\n",
       "      <td>NaN</td>\n",
       "      <td>NaN</td>\n",
       "    </tr>\n",
       "    <tr>\n",
       "      <th>6</th>\n",
       "      <td>Category:</td>\n",
       "      <td>Insulation</td>\n",
       "      <td>Insulation</td>\n",
       "      <td>Insulation</td>\n",
       "      <td>EV</td>\n",
       "      <td>EV</td>\n",
       "      <td>Valves</td>\n",
       "      <td>Leak</td>\n",
       "      <td>Profiler</td>\n",
       "      <td>Burner</td>\n",
       "      <td>Burner</td>\n",
       "      <td>Mixing</td>\n",
       "      <td>ESP</td>\n",
       "      <td>ESP</td>\n",
       "      <td>Donation</td>\n",
       "      <td>Donation</td>\n",
       "      <td>Donation</td>\n",
       "    </tr>\n",
       "  </tbody>\n",
       "</table>\n",
       "</div>"
      ],
      "text/plain": [
       "   Pollutant Insulation A Insulation B Insulation C EV Polestar 2  \\\n",
       "0        NOx          350            0         1300             0   \n",
       "1        CH4          130         1833           50             0   \n",
       "2        CO2         1600         2050          400           430   \n",
       "3        NaN          NaN          NaN          NaN           NaN   \n",
       "4        NaN          NaN          NaN          NaN           NaN   \n",
       "5        NaN          NaN          NaN          NaN           NaN   \n",
       "6  Category:   Insulation   Insulation   Insulation            EV   \n",
       "\n",
       "  EV Renault Zoe Replace valves Leak detection OHProfiler Low Burner  \\\n",
       "0              0           1600             50        230       1400   \n",
       "1              0            225           2500        180          0   \n",
       "2            460            250              0        550        250   \n",
       "3            NaN            NaN            NaN        NaN        NaN   \n",
       "4            NaN            NaN            NaN        NaN        NaN   \n",
       "5            NaN            NaN            NaN        NaN        NaN   \n",
       "6             EV         Valves           Leak   Profiler     Burner   \n",
       "\n",
       "  Ultra Low Burner Fuel/air mixing ESP design ESP design (MV variant)  \\\n",
       "0             1700            1050        800                       0   \n",
       "1                0             450        450                    1770   \n",
       "2               50               0        950                    1840   \n",
       "3              NaN             NaN        NaN                     NaN   \n",
       "4              NaN             NaN        NaN                     NaN   \n",
       "5              NaN             NaN        NaN                     NaN   \n",
       "6           Burner          Mixing        ESP                     ESP   \n",
       "\n",
       "   Donate A  Donate B  Donate C  \n",
       "0       660       500         0  \n",
       "1       100         0         0  \n",
       "2      1050      1500      2000  \n",
       "3       NaN       NaN       NaN  \n",
       "4       NaN       NaN       NaN  \n",
       "5       NaN       NaN       NaN  \n",
       "6  Donation  Donation  Donation  "
      ]
     },
     "execution_count": 244,
     "metadata": {},
     "output_type": "execute_result"
    }
   ],
   "source": [
    "df_strategies"
   ]
  },
  {
   "cell_type": "markdown",
   "id": "cb91a09e",
   "metadata": {},
   "source": [
    "## Situation A)\n",
    "\n",
    "* mathematical description or the change to the new model:\n",
    "\n",
    "number of strategies increased to 16 in stead of 2. Therefor, the dimension of the x matrix increased to 16*1\n",
    "\n",
    "\n",
    "\n",
    "- Decision Variables: x1 to x16 (the amount of allocated fund to each strategy)\n",
    "\n",
    "- Objective: max C.Tx\n",
    "\n",
    "- Constraints: \n",
    "              subject to Ax >= b\n",
    "                      x>=0\n",
    "                      sum(x)<=10\n",
    "              \n",
    "where: \n",
    "\n",
    "C is a matrix of size 16*1 contains the amount of CO2 save in each strategy \n",
    "\n",
    "x is a matrix in the size of 16*1 \n",
    "\n",
    "A is a matrix with the size of 2*16\n",
    "\n",
    "b is a matrix with the size of 2*1\n",
    "   \n",
    "\n",
    "\n",
    "* allocated fund to each strategy in the optimum solution:\n",
    "\n",
    "budjet_for_Donate_B = 5.4545455\n",
    "\n",
    "budjet_for_Replace_valves = 4.5454545\n",
    "\n",
    "there is no contribution to the other strategies\n",
    "\n",
    "\n",
    "* Saved CO2:\n",
    "9318.181875\n",
    "\n",
    "* whay it is more/less/equal compared to previous situations:\n",
    "\n",
    "It is much less than the previous problem. the amount of CO2 saving in the strategies in this problem is less than the previous one while the constraints on the other two plutants is constant. Generally, the strategies are completely different from the previous plroblem. in current problem, there are 16 strategies rather than 2 in previus problem, as well as much less CO2-saving per each strategies. "
   ]
  },
  {
   "cell_type": "code",
   "execution_count": 321,
   "id": "561e4879",
   "metadata": {},
   "outputs": [],
   "source": [
    "# create the model to contain the problem data\n",
    "model_a = LpProblem(name=\"ChemTrace\", sense=LpMaximize )\n"
   ]
  },
  {
   "cell_type": "code",
   "execution_count": 194,
   "id": "3fe1c9e1",
   "metadata": {},
   "outputs": [
    {
     "data": {
      "text/plain": [
       "array([[350, 0, 1300, 0, 0, 1600, 50, 230, 1400, 1700, 1050, 800, 0, 660,\n",
       "        500, 0],\n",
       "       [130, 1833, 50, 0, 0, 225, 2500, 180, 0, 0, 450, 450, 1770, 100,\n",
       "        0, 0]], dtype=object)"
      ]
     },
     "execution_count": 194,
     "metadata": {},
     "output_type": "execute_result"
    }
   ],
   "source": [
    "arr = strategies.to_numpy()[0:2,1:]\n",
    "arr"
   ]
  },
  {
   "cell_type": "code",
   "execution_count": 322,
   "id": "7d4b2b29",
   "metadata": {},
   "outputs": [],
   "source": [
    "# create list/dict of objective variables \n",
    "\n",
    "strategies = list(df_strategies.columns)[1:] \n",
    "CO2 = dict(zip(strategies,list(df_strategies.loc[2][1:])))\n",
    "NOx = dict(zip(strategies,list(df_strategies.loc[0][1:])))\n",
    "CH4 = dict(zip(strategies,list(df_strategies.loc[1][1:])))\n",
    "#strategies.to_numpy()[0:2,1:]\n"
   ]
  },
  {
   "cell_type": "code",
   "execution_count": 323,
   "id": "2b9f13cd",
   "metadata": {},
   "outputs": [
    {
     "data": {
      "text/plain": [
       "16"
      ]
     },
     "execution_count": 323,
     "metadata": {},
     "output_type": "execute_result"
    }
   ],
   "source": [
    "# Creates a dictionary of LP variables\n",
    "\n",
    "x = LpVariable.dicts( name=\"budjet_for\", indices=strategies, lowBound=0, upBound=None)\n"
   ]
  },
  {
   "cell_type": "code",
   "execution_count": 324,
   "id": "4d164815",
   "metadata": {},
   "outputs": [],
   "source": [
    "# The objective function is added to 'model' first; calculate the sum of a list of linear expressions\n",
    "model_a += lpSum(CO2[i]*x[i] for i in strategies) # \"Total CO2 saving\"\n"
   ]
  },
  {
   "cell_type": "code",
   "execution_count": 331,
   "id": "0e86c727",
   "metadata": {},
   "outputs": [],
   "source": [
    "# The constraints are added\n",
    "model_a += lpSum(NOx[i]*x[i] for i in strategies) >= 10000\n",
    "model_a += lpSum(CH4[i]*x[i] for i in strategies) >= 750\n",
    "model_a += lpSum(x[i] for i in strategies)<=10\n",
    "\n"
   ]
  },
  {
   "cell_type": "code",
   "execution_count": 332,
   "id": "cef77caa",
   "metadata": {},
   "outputs": [
    {
     "data": {
      "text/plain": [
       "[budjet_for_Donate_A,\n",
       " budjet_for_Donate_B,\n",
       " budjet_for_Donate_C,\n",
       " budjet_for_ESP_design,\n",
       " budjet_for_ESP_design_(MV_variant),\n",
       " budjet_for_EV_Polestar_2,\n",
       " budjet_for_EV_Renault_Zoe,\n",
       " budjet_for_Fuel_air_mixing,\n",
       " budjet_for_Insulation_A,\n",
       " budjet_for_Insulation_B,\n",
       " budjet_for_Insulation_C,\n",
       " budjet_for_Leak_detection,\n",
       " budjet_for_Low_Burner,\n",
       " budjet_for_OHProfiler,\n",
       " budjet_for_Replace_valves,\n",
       " budjet_for_Ultra_Low_Burner]"
      ]
     },
     "execution_count": 332,
     "metadata": {},
     "output_type": "execute_result"
    }
   ],
   "source": [
    "# The model data is written to an .lp file\n",
    "model_a.writeLP(\"ChemTrace_a.lp\")"
   ]
  },
  {
   "cell_type": "code",
   "execution_count": 333,
   "id": "78829d6b",
   "metadata": {},
   "outputs": [
    {
     "name": "stdout",
     "output_type": "stream",
     "text": [
      "Welcome to the CBC MILP Solver \n",
      "Version: 2.10.3 \n",
      "Build Date: Dec 15 2019 \n",
      "\n",
      "command line - /Users/kheirysohouli/opt/anaconda3/lib/python3.9/site-packages/pulp/solverdir/cbc/osx/64/cbc /var/folders/1x/_847lj390sv7mv459sy0j1y80000gn/T/f0d5f0f79ec54c0386a311a39ceae82d-pulp.mps max timeMode elapsed branch printingOptions all solution /var/folders/1x/_847lj390sv7mv459sy0j1y80000gn/T/f0d5f0f79ec54c0386a311a39ceae82d-pulp.sol (default strategy 1)\n",
      "At line 2 NAME          MODEL\n",
      "At line 3 ROWS\n",
      "At line 11 COLUMNS\n",
      "At line 100 RHS\n",
      "At line 107 BOUNDS\n",
      "At line 108 ENDATA\n",
      "Problem MODEL has 6 rows, 16 columns and 74 elements\n",
      "Coin0008I MODEL read with 0 errors\n",
      "Option for timeMode changed from cpu to elapsed\n",
      "Presolve 3 (-3) rows, 14 (-2) columns and 35 (-39) elements\n",
      "0  Obj -0 Primal inf 16.18235 (3) Dual inf 88317.637 (12)\n",
      "3  Obj 9318.1818\n",
      "Optimal - objective value 9318.1818\n",
      "After Postsolve, objective 9318.1818, infeasibilities - dual 0 (0), primal 0 (0)\n",
      "Optimal objective 9318.181818 - 3 iterations time 0.002, Presolve 0.00\n",
      "Option for printingOptions changed from normal to all\n",
      "Total time (CPU seconds):       0.00   (Wallclock seconds):       0.00\n",
      "\n"
     ]
    },
    {
     "data": {
      "text/plain": [
       "1"
      ]
     },
     "execution_count": 333,
     "metadata": {},
     "output_type": "execute_result"
    }
   ],
   "source": [
    "# solve\n",
    "model_a.solve()"
   ]
  },
  {
   "cell_type": "code",
   "execution_count": 334,
   "id": "4bfb6b70",
   "metadata": {},
   "outputs": [
    {
     "name": "stdout",
     "output_type": "stream",
     "text": [
      "Status: Optimal\n"
     ]
    }
   ],
   "source": [
    "# The status of the solution is printed to the screen                    \n",
    "print( \"Status: \" + LpStatus[model_a.status] )"
   ]
  },
  {
   "cell_type": "code",
   "execution_count": 335,
   "id": "dfe40ef3",
   "metadata": {},
   "outputs": [
    {
     "name": "stdout",
     "output_type": "stream",
     "text": [
      "Total saving_CO2 = 9318.181875\n"
     ]
    }
   ],
   "source": [
    "# Total saving CO2\n",
    "# The optimised objective function value is printed to the screen\n",
    "print( \"Total saving_CO2 = \" +str( value(model_a.objective) ) )"
   ]
  },
  {
   "cell_type": "code",
   "execution_count": 336,
   "id": "54fbcde9",
   "metadata": {},
   "outputs": [
    {
     "name": "stdout",
     "output_type": "stream",
     "text": [
      "budjet_for_Donate_A = 0.0\n",
      "budjet_for_Donate_B = 5.4545455\n",
      "budjet_for_Donate_C = 0.0\n",
      "budjet_for_ESP_design = 0.0\n",
      "budjet_for_ESP_design_(MV_variant) = 0.0\n",
      "budjet_for_EV_Polestar_2 = 0.0\n",
      "budjet_for_EV_Renault_Zoe = 0.0\n",
      "budjet_for_Fuel_air_mixing = 0.0\n",
      "budjet_for_Insulation_A = 0.0\n",
      "budjet_for_Insulation_B = 0.0\n",
      "budjet_for_Insulation_C = 0.0\n",
      "budjet_for_Leak_detection = 0.0\n",
      "budjet_for_Low_Burner = 0.0\n",
      "budjet_for_OHProfiler = 0.0\n",
      "budjet_for_Replace_valves = 4.5454545\n",
      "budjet_for_Ultra_Low_Burner = 0.0\n"
     ]
    }
   ],
   "source": [
    "# Each of the variables is printed with it's resolved optimum value\n",
    "for v in model_a.variables():\n",
    "    print( v.name + \" = \" + str(v.varValue) ) # allocated budject for each strategy"
   ]
  },
  {
   "cell_type": "markdown",
   "id": "18c73fbb",
   "metadata": {},
   "source": [
    "## Situation B\n",
    "\n",
    "* mathematical description or the change to the new model:\n",
    "\n",
    "number of strategies remained as to 16\n",
    "\n",
    "\n",
    "- Decision Variables: x1 to x16 (the amount of allocated fund to each strategy)\n",
    "\n",
    "- Objective: max C.Tx\n",
    "\n",
    "- Constraints: there are changes in constraints\n",
    "              subject to Ax >= b\n",
    "                      x>=0\n",
    "                      sum(x)<=10\n",
    "                    abs(x['Insulation A']- 2.5) + abs(x['Replace valves'] - 0.75) <=1\n",
    "where: \n",
    "\n",
    "C is a matrix of size 16*1 contains the amount of CO2 save in each strategy \n",
    "\n",
    "x is a matrix in the size of 16*1 \n",
    "\n",
    "A is a matrix with the size of 2*16\n",
    "\n",
    "b is a matrix with the size of 2*1\n",
    "   \n",
    "\n",
    "\n",
    "* allocated fund to each strategy in the optimum solution:\n",
    "\n",
    "budjet_for_Donate_B = 2.8508479\n",
    "\n",
    "budjet_for_Insulation_A = 2.5\n",
    "\n",
    "budjet_for_Insulation_B = 0.017048554\n",
    "\n",
    "budjet_for_Replace_valves = 1.75\n",
    "\n",
    "budjet_for_Ultra_Low_Burner = 2.8821036\n",
    "\n",
    "there is no contribution to the other strategies\n",
    "\n",
    "\n",
    "\n",
    "* Saved CO2:\n",
    "\n",
    "8892.826565700001\n",
    "\n",
    "* whay it is more/less/equal compared to previous situations:\n",
    "\n",
    "it is less than the previous problem. because several constraints equations are added which contributes to CO2-saving less than others. In this problem the strategy 'Insulation A' must get budjet while in the previous problem we saw the allocated budjet for that equal to zero for maximizing CO2-saving. on the other hand, a constraint on the allocating budjet for Replace_valves decreased to the maximum amount of 1.75, while in previous problem the allocated budjet for that was more than twice of this. Generally, subjecting the problem to conditions which cause decrease in the favorit strategy(related to CO2-saving) and increase in other strategies (related to CO2-saving) leads to less CO2-saving.\n"
   ]
  },
  {
   "cell_type": "code",
   "execution_count": 621,
   "id": "73b48c7b",
   "metadata": {},
   "outputs": [],
   "source": [
    "# create the model to contain the problem data, specifiy max function in terms of saving CO2\n",
    "model_b = LpProblem(name=\"ChemTrace\", sense=LpMaximize )"
   ]
  },
  {
   "cell_type": "code",
   "execution_count": 622,
   "id": "87743869",
   "metadata": {},
   "outputs": [],
   "source": [
    "# create list/dict of objective variables \n",
    "\n",
    "strategies = list(df_strategies.columns)[1:] \n",
    "CO2 = dict(zip(strategies,list(df_strategies.loc[2][1:])))\n",
    "NOx = dict(zip(strategies,list(df_strategies.loc[0][1:])))\n",
    "CH4 = dict(zip(strategies,list(df_strategies.loc[1][1:])))"
   ]
  },
  {
   "cell_type": "code",
   "execution_count": 623,
   "id": "513e72e2",
   "metadata": {},
   "outputs": [
    {
     "data": {
      "text/plain": [
       "16"
      ]
     },
     "execution_count": 623,
     "metadata": {},
     "output_type": "execute_result"
    }
   ],
   "source": [
    "# Creates a dictionary of LP variables\n",
    "\n",
    "x = LpVariable.dicts( name=\"budjet_for\", indices=strategies, lowBound=0, upBound=None)\n",
    "len(x )"
   ]
  },
  {
   "cell_type": "code",
   "execution_count": 624,
   "id": "18ed44ef",
   "metadata": {},
   "outputs": [],
   "source": [
    "model_b += lpSum(CO2[i]*x[i] for i in strategies)"
   ]
  },
  {
   "cell_type": "code",
   "execution_count": 625,
   "id": "55309321",
   "metadata": {},
   "outputs": [],
   "source": [
    "# The constraints are added\n",
    "model_b += lpSum(NOx[i]*x[i] for i in strategies) >= 10000\n",
    "model_b += lpSum(CH4[i]*x[i] for i in strategies) >= 750\n",
    "model_b += lpSum(x[i] for i in strategies)<=10\n",
    "#model_b += lpSum(x[i] for i in ('Insulation A','Replace valves' ))<=4.25\n",
    "#model_b += lpSum(x[i] for i in ('Insulation A','Replace valves' ))>=2.25\n",
    "#model_b += lpSum(x['Insulation A'] ) <=3.5\n",
    "#model_b += lpSum(x['Insulation A']) >=1.5\n",
    "#model_b += lpSum(x['Replace valves'] ) <=1.75\n",
    "model_b += (x['Insulation A']- 2.5) + (x['Replace valves'] - 0.75) <=1\n",
    "model_b += -(x['Insulation A']- 2.5) + (x['Replace valves'] - 0.75) <=1\n",
    "model_b += (x['Insulation A']- 2.5) - (x['Replace valves'] - 0.75) <=1\n",
    "model_b += -(x['Insulation A']- 2.5) - (x['Replace valves'] - 0.75) <=1\n",
    "\n"
   ]
  },
  {
   "cell_type": "code",
   "execution_count": 626,
   "id": "30612244",
   "metadata": {},
   "outputs": [
    {
     "data": {
      "text/plain": [
       "[budjet_for_Donate_A,\n",
       " budjet_for_Donate_B,\n",
       " budjet_for_Donate_C,\n",
       " budjet_for_ESP_design,\n",
       " budjet_for_ESP_design_(MV_variant),\n",
       " budjet_for_EV_Polestar_2,\n",
       " budjet_for_EV_Renault_Zoe,\n",
       " budjet_for_Fuel_air_mixing,\n",
       " budjet_for_Insulation_A,\n",
       " budjet_for_Insulation_B,\n",
       " budjet_for_Insulation_C,\n",
       " budjet_for_Leak_detection,\n",
       " budjet_for_Low_Burner,\n",
       " budjet_for_OHProfiler,\n",
       " budjet_for_Replace_valves,\n",
       " budjet_for_Ultra_Low_Burner]"
      ]
     },
     "execution_count": 626,
     "metadata": {},
     "output_type": "execute_result"
    }
   ],
   "source": [
    "# The model data is written to an .lp file\n",
    "model_b.writeLP(\"ChemTrace_b.lp\")"
   ]
  },
  {
   "cell_type": "code",
   "execution_count": 627,
   "id": "7317e3f6",
   "metadata": {},
   "outputs": [
    {
     "name": "stdout",
     "output_type": "stream",
     "text": [
      "Welcome to the CBC MILP Solver \n",
      "Version: 2.10.3 \n",
      "Build Date: Dec 15 2019 \n",
      "\n",
      "command line - /Users/kheirysohouli/opt/anaconda3/lib/python3.9/site-packages/pulp/solverdir/cbc/osx/64/cbc /var/folders/1x/_847lj390sv7mv459sy0j1y80000gn/T/8724f3dd422b41818f83d2dbcaa3cd60-pulp.mps max timeMode elapsed branch printingOptions all solution /var/folders/1x/_847lj390sv7mv459sy0j1y80000gn/T/8724f3dd422b41818f83d2dbcaa3cd60-pulp.sol (default strategy 1)\n",
      "At line 2 NAME          MODEL\n",
      "At line 3 ROWS\n",
      "At line 12 COLUMNS\n",
      "At line 72 RHS\n",
      "At line 80 BOUNDS\n",
      "At line 81 ENDATA\n",
      "Problem MODEL has 7 rows, 16 columns and 45 elements\n",
      "Coin0008I MODEL read with 0 errors\n",
      "Option for timeMode changed from cpu to elapsed\n",
      "Presolve 7 (0) rows, 14 (-2) columns and 43 (-2) elements\n",
      "0  Obj 1039.9999 Primal inf 17.064725 (5) Dual inf 88317.637 (12)\n",
      "7  Obj 8892.8265\n",
      "Optimal - objective value 8892.8265\n",
      "After Postsolve, objective 8892.8265, infeasibilities - dual 0 (0), primal 0 (0)\n",
      "Optimal objective 8892.826537 - 7 iterations time 0.002, Presolve 0.00\n",
      "Option for printingOptions changed from normal to all\n",
      "Total time (CPU seconds):       0.00   (Wallclock seconds):       0.02\n",
      "\n"
     ]
    },
    {
     "data": {
      "text/plain": [
       "1"
      ]
     },
     "execution_count": 627,
     "metadata": {},
     "output_type": "execute_result"
    }
   ],
   "source": [
    "# solve\n",
    "model_b.solve()"
   ]
  },
  {
   "cell_type": "code",
   "execution_count": 628,
   "id": "44f92e49",
   "metadata": {},
   "outputs": [
    {
     "name": "stdout",
     "output_type": "stream",
     "text": [
      "Status: Optimal\n"
     ]
    }
   ],
   "source": [
    "# The status of the solution is printed to the screen                    \n",
    "print( \"Status: \" + LpStatus[model_b.status] )"
   ]
  },
  {
   "cell_type": "code",
   "execution_count": 629,
   "id": "7f7bdfbd",
   "metadata": {},
   "outputs": [
    {
     "name": "stdout",
     "output_type": "stream",
     "text": [
      "Total saving_CO2 = 8892.826565700001\n"
     ]
    }
   ],
   "source": [
    "# Total saving CO2\n",
    "# The optimised objective function value is printed to the screen\n",
    "print( \"Total saving_CO2 = \" +str( value(model_b.objective) ) )"
   ]
  },
  {
   "cell_type": "code",
   "execution_count": 630,
   "id": "09018a7b",
   "metadata": {},
   "outputs": [
    {
     "name": "stdout",
     "output_type": "stream",
     "text": [
      "budjet_for_Donate_A = 0.0\n",
      "budjet_for_Donate_B = 2.8508479\n",
      "budjet_for_Donate_C = 0.0\n",
      "budjet_for_ESP_design = 0.0\n",
      "budjet_for_ESP_design_(MV_variant) = 0.0\n",
      "budjet_for_EV_Polestar_2 = 0.0\n",
      "budjet_for_EV_Renault_Zoe = 0.0\n",
      "budjet_for_Fuel_air_mixing = 0.0\n",
      "budjet_for_Insulation_A = 2.5\n",
      "budjet_for_Insulation_B = 0.017048554\n",
      "budjet_for_Insulation_C = 0.0\n",
      "budjet_for_Leak_detection = 0.0\n",
      "budjet_for_Low_Burner = 0.0\n",
      "budjet_for_OHProfiler = 0.0\n",
      "budjet_for_Replace_valves = 1.75\n",
      "budjet_for_Ultra_Low_Burner = 2.8821036\n"
     ]
    }
   ],
   "source": [
    "# Each of the variables is printed with it's resolved optimum value\n",
    "for v in model_b.variables():\n",
    "    print( v.name + \" = \" + str(v.varValue) ) # allocated budject for each strategy"
   ]
  },
  {
   "cell_type": "markdown",
   "id": "86b1b0e3",
   "metadata": {},
   "source": [
    "## Situation C\n",
    "\n",
    "* mathematical description or the change to the new model:\n",
    "We need to add two constrains:\n",
    "\n",
    "1-the alocated fund to the strategies is not continous any more and it is integer.\n",
    "by using cat=LpInteger, this condition applied. So the allocated funds are integer in this situation. and the problem converted to the Integer problem.  \n",
    "\n",
    "2- from each category not more than one strategy could recieve fund. I created another variable \"y\", and set cat = LpBinary. Also apply constraint to select not more than one strategy from one category by using codes bellow :\n",
    "\n",
    "M = 999999\n",
    "\n",
    "for i in strategies:\n",
    "\n",
    "    model_c += x[i]<= M * y[i]\n",
    "    \n",
    "for category in categories:\n",
    "\n",
    "    model_c += lpSum(y[cat] for cat in categories[category]) <=1\n",
    "\n",
    "\n",
    "\n",
    "- Decision Variables: x1 to x16 (the amount of allocated fund to each strategy)\n",
    "\n",
    "- Objective: max C.Tx\n",
    "\n",
    "- Constraints: there are changes in constraints\n",
    "              subject to Ax >= b\n",
    "                      x>=0\n",
    "                      sum(x)<=10\n",
    "                    abs(x['Insulation A']- 2.5) + abs(x['Replace valves'] - 0.75) <=1\n",
    "                    \n",
    "where: \n",
    "\n",
    "C is a matrix of size 16*1 contains the amount of CO2 save in each strategy \n",
    "\n",
    "x is a matrix in the size of 16*1 \n",
    "\n",
    "A is a matrix with the size of 2*16\n",
    "\n",
    "b is a matrix with the size of 2*1\n",
    "   \n",
    "\n",
    "\n",
    "* allocated fund to each strategy in the optimum solution:\n",
    "\n",
    "\n",
    "Donate_B = 2.0\n",
    "\n",
    "ESP_design = 2.0\n",
    "\n",
    "Insulation_A = 2.0\n",
    "\n",
    "Replace_valves = 1.0\n",
    "\n",
    "Ultra_Low_Burner = 3.0\n",
    "\n",
    "there is no contribution to the other strategies\n",
    "\n",
    "* Saved CO2:\n",
    "8500.0\n",
    "\n",
    "* whay it is less compared to situation B:\n",
    "\n",
    "first adding the constraints of only integer funds are applicable.\n",
    "second, adding constraint of not more than one strategy from one category leads to less CO2-saving, for example in situation C compared to situation B, no fund assign to Insulation_b which has significant effect on CO2-saving. \n"
   ]
  },
  {
   "cell_type": "code",
   "execution_count": 730,
   "id": "0172c1f7",
   "metadata": {},
   "outputs": [],
   "source": [
    "# create the model to contain the problem data\n",
    "model_c = LpProblem(name=\"ChemTrace\", sense=LpMaximize )"
   ]
  },
  {
   "cell_type": "code",
   "execution_count": 731,
   "id": "0a04d78c",
   "metadata": {},
   "outputs": [],
   "source": [
    "# create list/dict of objective variables \n",
    "\n",
    "# Create a list of categories and their associated strategies\n",
    "categories = {\n",
    "    \"Insulation\": [\"Insulation A\", \"Insulation B\",\"Insulation C\"],\n",
    "    \"EV\": [\"EV Polestar 2\", \"EV Renault Zoe\"],\n",
    "    \"Valves\": [\"Replace valves\"],\n",
    "    \"Leak\": [\"Leak detection\"], \n",
    "    \"Profiler\" : [\"OHProfiler\"], \n",
    "    \"Burner\" : [\"Low Burner\", \"Ultra Low Burner\"],\n",
    "    \"Mixing\" : [\"Fuel/air mixing\"],\n",
    "    \"ESP\" : [\"ESP design\",\"ESP design (MV variant)\" ],\n",
    "    \"Donation\" : [\"Donate A\", \"Donate B\", \"Donate C\"]}\n",
    "\n",
    "strategies = list(df_strategies.columns)[1:] \n",
    "\n",
    "\n",
    "\n",
    "x = {}\n",
    "for category in categories:\n",
    "    for strategy in categories[category]:\n",
    "        x[strategy] = pulp.LpVariable(strategy, cat=LpInteger, lowBound=0, upBound=None )\n",
    "        \n",
    "y = {}\n",
    "for category in categories:\n",
    "    for strategy in categories[category]:\n",
    "        y[strategy] = pulp.LpVariable('bin_'+strategy, cat = LpBinary)\n",
    "        \n",
    "#for strategy in y:\n",
    "#    y[strategy] = strategy+\"_y\"\n",
    "\n",
    "\n",
    "    \n",
    "CO2 = dict(zip(strategies,list(df_strategies.loc[2][1:])))\n",
    "NOx = dict(zip(strategies,list(df_strategies.loc[0][1:])))\n",
    "CH4 = dict(zip(strategies,list(df_strategies.loc[1][1:])))"
   ]
  },
  {
   "cell_type": "code",
   "execution_count": 732,
   "id": "3066dda9",
   "metadata": {},
   "outputs": [],
   "source": [
    "#specifiy max function in terms of saving CO2\n",
    "model_c += lpSum(CO2[i]*x[i] for i in strategies)"
   ]
  },
  {
   "cell_type": "code",
   "execution_count": 733,
   "id": "4ea81bdb",
   "metadata": {},
   "outputs": [],
   "source": [
    "# The constraints are added\n",
    "model_c += lpSum(NOx[i]*x[i] for i in strategies) >= 10000\n",
    "model_c += lpSum(CH4[i]*x[i] for i in strategies) >= 750\n",
    "model_c += lpSum(x[i] for i in strategies)<=10\n",
    "model_c += (x['Insulation A']- 2.5) + (x['Replace valves'] - 0.75) <=1\n",
    "model_c += -(x['Insulation A']- 2.5) + (x['Replace valves'] - 0.75) <=1\n",
    "model_c += (x['Insulation A']- 2.5) - (x['Replace valves'] - 0.75) <=1\n",
    "model_c += -(x['Insulation A']- 2.5) - (x['Replace valves'] - 0.75) <=1\n",
    "\n",
    "\n",
    "\n",
    "M = 999999\n",
    "\n",
    "for i in strategies:\n",
    "    model_c += x[i]<= M * y[i]\n",
    "    \n",
    "for category in categories:\n",
    "    model_c += lpSum(y[cat] for cat in categories[category]) <=1"
   ]
  },
  {
   "cell_type": "code",
   "execution_count": 734,
   "id": "b07c9206",
   "metadata": {
    "scrolled": true
   },
   "outputs": [
    {
     "data": {
      "text/plain": [
       "[Donate_A,\n",
       " Donate_B,\n",
       " Donate_C,\n",
       " ESP_design,\n",
       " ESP_design_(MV_variant),\n",
       " EV_Polestar_2,\n",
       " EV_Renault_Zoe,\n",
       " Fuel_air_mixing,\n",
       " Insulation_A,\n",
       " Insulation_B,\n",
       " Insulation_C,\n",
       " Leak_detection,\n",
       " Low_Burner,\n",
       " OHProfiler,\n",
       " Replace_valves,\n",
       " Ultra_Low_Burner,\n",
       " bin_Donate_A,\n",
       " bin_Donate_B,\n",
       " bin_Donate_C,\n",
       " bin_ESP_design,\n",
       " bin_ESP_design_(MV_variant),\n",
       " bin_EV_Polestar_2,\n",
       " bin_EV_Renault_Zoe,\n",
       " bin_Fuel_air_mixing,\n",
       " bin_Insulation_A,\n",
       " bin_Insulation_B,\n",
       " bin_Insulation_C,\n",
       " bin_Leak_detection,\n",
       " bin_Low_Burner,\n",
       " bin_OHProfiler,\n",
       " bin_Replace_valves,\n",
       " bin_Ultra_Low_Burner]"
      ]
     },
     "execution_count": 734,
     "metadata": {},
     "output_type": "execute_result"
    }
   ],
   "source": [
    "# The model data is written to an .lp file\n",
    "model_c.writeLP(\"ChemTrace_c.lp\")"
   ]
  },
  {
   "cell_type": "code",
   "execution_count": 735,
   "id": "7f448fce",
   "metadata": {},
   "outputs": [
    {
     "name": "stdout",
     "output_type": "stream",
     "text": [
      "Welcome to the CBC MILP Solver \n",
      "Version: 2.10.3 \n",
      "Build Date: Dec 15 2019 \n",
      "\n",
      "command line - /Users/kheirysohouli/opt/anaconda3/lib/python3.9/site-packages/pulp/solverdir/cbc/osx/64/cbc /var/folders/1x/_847lj390sv7mv459sy0j1y80000gn/T/2adecaca882b44cdabfc968d95a7ccd4-pulp.mps max timeMode elapsed branch printingOptions all solution /var/folders/1x/_847lj390sv7mv459sy0j1y80000gn/T/2adecaca882b44cdabfc968d95a7ccd4-pulp.sol (default strategy 1)\n",
      "At line 2 NAME          MODEL\n",
      "At line 3 ROWS\n",
      "At line 37 COLUMNS\n",
      "At line 209 RHS\n",
      "At line 242 BOUNDS\n",
      "At line 275 ENDATA\n",
      "Problem MODEL has 32 rows, 32 columns and 93 elements\n",
      "Coin0008I MODEL read with 0 errors\n",
      "Option for timeMode changed from cpu to elapsed\n",
      "Continuous objective value is 8892.83 - 0.00 seconds\n",
      "Cgl0003I 5 fixed, 1 tightened bounds, 1 strengthened rows, 0 substitutions\n",
      "Cgl0003I 0 fixed, 14 tightened bounds, 11 strengthened rows, 0 substitutions\n",
      "Cgl0003I 1 fixed, 13 tightened bounds, 10 strengthened rows, 0 substitutions\n",
      "Cgl0003I 0 fixed, 0 tightened bounds, 1 strengthened rows, 0 substitutions\n",
      "Cgl0003I 0 fixed, 0 tightened bounds, 1 strengthened rows, 0 substitutions\n",
      "Cgl0003I 0 fixed, 0 tightened bounds, 1 strengthened rows, 0 substitutions\n",
      "Cgl0004I processed model has 16 rows, 22 columns (22 integer (9 of which binary)) and 56 elements\n",
      "Cutoff increment increased from 1e-05 to 9.9999\n",
      "Cbc0038I Initial state - 6 integers unsatisfied sum - 1.85243\n",
      "Cbc0038I Pass   1: suminf.    1.00000 (3) obj. -3476.92 iterations 8\n",
      "Cbc0038I Solution found of -3476.92\n",
      "Cbc0038I Branch and bound needed to clear up 2 general integers\n",
      "Cbc0038I Full problem 16 rows 22 columns, reduced to 3 rows 5 columns\n",
      "Cbc0038I Cleaned solution of -5850\n",
      "Cbc0038I Before mini branch and bound, 14 integers at bound fixed and 0 continuous\n",
      "Cbc0038I Full problem 16 rows 22 columns, reduced to 3 rows 5 columns\n",
      "Cbc0038I Mini branch and bound improved solution from -5850 to -8500 (0.02 seconds)\n",
      "Cbc0038I Round again with cutoff of -8528.82\n",
      "Cbc0038I Reduced cost fixing fixed 6 variables on major pass 2\n",
      "Cbc0038I Pass   2: suminf.    1.91724 (6) obj. -8528.82 iterations 4\n",
      "Cbc0038I Pass   3: suminf.    1.21998 (5) obj. -8528.82 iterations 4\n",
      "Cbc0038I Solution found of -8528.82\n",
      "Cbc0038I Branch and bound needed to clear up 3 general integers\n",
      "Cbc0038I Mini branch and bound could not fix general integers\n",
      "Cbc0038I No solution found this major pass\n",
      "Cbc0038I Before mini branch and bound, 12 integers at bound fixed and 0 continuous\n",
      "Cbc0038I Full problem 16 rows 22 columns, reduced to 9 rows 9 columns\n",
      "Cbc0038I Mini branch and bound did not improve solution (0.02 seconds)\n",
      "Cbc0038I After 0.02 seconds - Feasibility pump exiting with objective of -8500 - took 0.00 seconds\n",
      "Cbc0012I Integer solution of -8500 found by feasibility pump after 0 iterations and 0 nodes (0.02 seconds)\n",
      "Cbc0038I Full problem 16 rows 22 columns, reduced to 2 rows 4 columns\n",
      "Cbc0006I The LP relaxation is infeasible or too expensive\n",
      "Cbc0031I 4 added rows had average density of 2.75\n",
      "Cbc0013I At root node, 4 cuts changed objective from -8698.2311 to -8574.5926 in 3 passes\n",
      "Cbc0014I Cut generator 0 (Probing) - 16 row cuts average 2.0 elements, 6 column cuts (6 active)  in 0.000 seconds - new frequency is 1\n",
      "Cbc0014I Cut generator 1 (Gomory) - 10 row cuts average 4.5 elements, 0 column cuts (0 active)  in 0.000 seconds - new frequency is 1\n",
      "Cbc0014I Cut generator 2 (Knapsack) - 1 row cuts average 2.0 elements, 0 column cuts (0 active)  in 0.000 seconds - new frequency is 1\n",
      "Cbc0014I Cut generator 3 (Clique) - 0 row cuts average 0.0 elements, 0 column cuts (0 active)  in 0.000 seconds - new frequency is -100\n",
      "Cbc0014I Cut generator 4 (MixedIntegerRounding2) - 2 row cuts average 2.0 elements, 0 column cuts (0 active)  in 0.000 seconds - new frequency is 1\n",
      "Cbc0014I Cut generator 5 (FlowCover) - 1 row cuts average 7.0 elements, 0 column cuts (0 active)  in 0.000 seconds - new frequency is -100\n",
      "Cbc0014I Cut generator 6 (TwoMirCuts) - 18 row cuts average 4.3 elements, 0 column cuts (0 active)  in 0.000 seconds - new frequency is 1\n",
      "Cbc0001I Search completed - best objective -8500, took 23 iterations and 0 nodes (0.02 seconds)\n",
      "Cbc0035I Maximum depth 0, 2 variables fixed on reduced cost\n",
      "Cuts at root node changed objective from -8698.23 to -8574.59\n",
      "Probing was tried 3 times and created 22 cuts of which 0 were active after adding rounds of cuts (0.000 seconds)\n",
      "Gomory was tried 2 times and created 10 cuts of which 0 were active after adding rounds of cuts (0.000 seconds)\n",
      "Knapsack was tried 2 times and created 1 cuts of which 0 were active after adding rounds of cuts (0.000 seconds)\n",
      "Clique was tried 2 times and created 0 cuts of which 0 were active after adding rounds of cuts (0.000 seconds)\n",
      "MixedIntegerRounding2 was tried 2 times and created 2 cuts of which 0 were active after adding rounds of cuts (0.000 seconds)\n",
      "FlowCover was tried 2 times and created 1 cuts of which 0 were active after adding rounds of cuts (0.000 seconds)\n",
      "TwoMirCuts was tried 2 times and created 18 cuts of which 0 were active after adding rounds of cuts (0.000 seconds)\n",
      "ZeroHalf was tried 1 times and created 0 cuts of which 0 were active after adding rounds of cuts (0.000 seconds)\n",
      "\n",
      "Result - Optimal solution found\n",
      "\n",
      "Objective value:                8500.00000000\n",
      "Enumerated nodes:               0\n",
      "Total iterations:               23\n",
      "Time (CPU seconds):             0.01\n",
      "Time (Wallclock seconds):       0.02\n",
      "\n",
      "Option for printingOptions changed from normal to all\n",
      "Total time (CPU seconds):       0.01   (Wallclock seconds):       0.03\n",
      "\n"
     ]
    },
    {
     "data": {
      "text/plain": [
       "1"
      ]
     },
     "execution_count": 735,
     "metadata": {},
     "output_type": "execute_result"
    }
   ],
   "source": [
    "# solve\n",
    "model_c.solve()"
   ]
  },
  {
   "cell_type": "code",
   "execution_count": 736,
   "id": "c9261558",
   "metadata": {},
   "outputs": [
    {
     "name": "stdout",
     "output_type": "stream",
     "text": [
      "Status: Optimal\n"
     ]
    }
   ],
   "source": [
    "# The status of the solution is printed to the screen                    \n",
    "print( \"Status: \" + LpStatus[model_c.status] )"
   ]
  },
  {
   "cell_type": "code",
   "execution_count": 737,
   "id": "72764186",
   "metadata": {},
   "outputs": [
    {
     "name": "stdout",
     "output_type": "stream",
     "text": [
      "Total saving_CO2 = 8500.0\n"
     ]
    }
   ],
   "source": [
    "# Total saving CO2\n",
    "# The optimised objective function value is printed to the screen\n",
    "print( \"Total saving_CO2 = \" +str( value(model_c.objective) ) )"
   ]
  },
  {
   "cell_type": "code",
   "execution_count": 738,
   "id": "47140460",
   "metadata": {
    "scrolled": true
   },
   "outputs": [
    {
     "name": "stdout",
     "output_type": "stream",
     "text": [
      "Donate_A = 0.0\n",
      "Donate_B = 2.0\n",
      "Donate_C = 0.0\n",
      "ESP_design = 2.0\n",
      "ESP_design_(MV_variant) = 0.0\n",
      "EV_Polestar_2 = 0.0\n",
      "EV_Renault_Zoe = 0.0\n",
      "Fuel_air_mixing = 0.0\n",
      "Insulation_A = 2.0\n",
      "Insulation_B = 0.0\n",
      "Insulation_C = 0.0\n",
      "Leak_detection = 0.0\n",
      "Low_Burner = 0.0\n",
      "OHProfiler = 0.0\n",
      "Replace_valves = 1.0\n",
      "Ultra_Low_Burner = 3.0\n",
      "bin_Donate_A = 0.0\n",
      "bin_Donate_B = 1.0\n",
      "bin_Donate_C = 0.0\n",
      "bin_ESP_design = 1.0\n",
      "bin_ESP_design_(MV_variant) = 0.0\n",
      "bin_EV_Polestar_2 = 0.0\n",
      "bin_EV_Renault_Zoe = 0.0\n",
      "bin_Fuel_air_mixing = 1.0\n",
      "bin_Insulation_A = 1.0\n",
      "bin_Insulation_B = 0.0\n",
      "bin_Insulation_C = 0.0\n",
      "bin_Leak_detection = 1.0\n",
      "bin_Low_Burner = 0.0\n",
      "bin_OHProfiler = 1.0\n",
      "bin_Replace_valves = 1.0\n",
      "bin_Ultra_Low_Burner = 1.0\n"
     ]
    }
   ],
   "source": [
    "# Each of the variables is printed with it's resolved optimum value\n",
    "for v in model_c.variables():\n",
    "    print( v.name + \" = \" + str(v.varValue) ) # allocated budject for each strategy"
   ]
  }
 ],
 "metadata": {
  "kernelspec": {
   "display_name": "Python 3 (ipykernel)",
   "language": "python",
   "name": "python3"
  },
  "language_info": {
   "codemirror_mode": {
    "name": "ipython",
    "version": 3
   },
   "file_extension": ".py",
   "mimetype": "text/x-python",
   "name": "python",
   "nbconvert_exporter": "python",
   "pygments_lexer": "ipython3",
   "version": "3.9.7"
  }
 },
 "nbformat": 4,
 "nbformat_minor": 5
}
